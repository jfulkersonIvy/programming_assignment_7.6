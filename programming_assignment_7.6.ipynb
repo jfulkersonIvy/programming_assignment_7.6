{
 "cells": [
  {
   "cell_type": "code",
   "execution_count": 1,
   "id": "e0c78dcb",
   "metadata": {},
   "outputs": [],
   "source": [
    "from math import sqrt"
   ]
  },
  {
   "cell_type": "code",
   "execution_count": 2,
   "id": "a4d7571a",
   "metadata": {},
   "outputs": [],
   "source": [
    "class QuadraticEquation:\n",
    "    def __init__(self, __a = 0, __b = 0, __c = 0):\n",
    "        self.__a = __a\n",
    "        self.__b = __b\n",
    "        self.__c = __c\n",
    "\n",
    "    def getA(self):\n",
    "        return self.__a\n",
    "\n",
    "    def getB(self):\n",
    "        return self.__b\n",
    "\n",
    "    def getC(self):\n",
    "        return self.__c\n",
    "\n",
    "    def getDiscriminant(self, __a, __b, __c):\n",
    "        self.discriminant = int(((self.__b * self.__b) - (4 * (self.__a * self.__c))))\n",
    "        return self.discriminant\n",
    "\n",
    "    def getRoot1(self, __a, __b, __c):\n",
    "        if self.getDiscriminant(self.__a, self.__b, self.__c) < 0:\n",
    "            return 0\n",
    "        else:\n",
    "            r1 = float((((-self.__b) + (sqrt(self.discriminant))) / (2 * self.__a)))\n",
    "            return r1\n",
    "\n",
    "    def getRoot2(self, __a, __b, __c):\n",
    "        if self.getDiscriminant(self.__a, self.__b, self.__c) < 0:\n",
    "            return 0\n",
    "        else:\n",
    "            r2 = float((((-self.__b) - (sqrt(self.discriminant))) / (2 * self.__a)))\n",
    "            return r2"
   ]
  },
  {
   "cell_type": "code",
   "execution_count": 5,
   "id": "db0be22d",
   "metadata": {},
   "outputs": [
    {
     "name": "stdout",
     "output_type": "stream",
     "text": [
      "A value: 2\n",
      "B value: 5\n",
      "C value: 3\n"
     ]
    }
   ],
   "source": [
    "a = input(\"A value: \")\n",
    "b = input(\"B value: \")\n",
    "c = input(\"C value: \")\n",
    "\n",
    "userEntry = QuadraticEquation(int(a), int(b), int(c))"
   ]
  },
  {
   "cell_type": "code",
   "execution_count": 6,
   "id": "65e85b5f",
   "metadata": {},
   "outputs": [
    {
     "name": "stdout",
     "output_type": "stream",
     "text": [
      "Root 1: -1.0\n",
      "Root 2: -1.5\n"
     ]
    }
   ],
   "source": [
    "if userEntry.getRoot1(userEntry.getA(), userEntry.getB(), userEntry.getC()) == 0 and userEntry.getRoot2(userEntry.getA(), userEntry.getB(), userEntry.getC()) == 0:\n",
    "    print(\"The equation has no roots.\")\n",
    "elif userEntry.getRoot1(userEntry.getA(), userEntry.getB(), userEntry.getC()) == userEntry.getRoot2(userEntry.getA(), userEntry.getB(), userEntry.getC()):\n",
    "    print(\"These coefficients only have one real root.\")\n",
    "    print(f\"Root: {userEntry.getRoot1(userEntry.getA(), userEntry.getB(), userEntry.getC())}\")\n",
    "else:\n",
    "    print(f\"Root 1: {userEntry.getRoot1(userEntry.getA(), userEntry.getB(), userEntry.getC())}\")\n",
    "    print(f\"Root 2: {userEntry.getRoot2(userEntry.getA(), userEntry.getB(), userEntry.getC())}\")"
   ]
  },
  {
   "cell_type": "code",
   "execution_count": null,
   "id": "0a2bc7fc",
   "metadata": {},
   "outputs": [],
   "source": []
  }
 ],
 "metadata": {
  "kernelspec": {
   "display_name": "Python 3 (ipykernel)",
   "language": "python",
   "name": "python3"
  },
  "language_info": {
   "codemirror_mode": {
    "name": "ipython",
    "version": 3
   },
   "file_extension": ".py",
   "mimetype": "text/x-python",
   "name": "python",
   "nbconvert_exporter": "python",
   "pygments_lexer": "ipython3",
   "version": "3.9.12"
  }
 },
 "nbformat": 4,
 "nbformat_minor": 5
}
